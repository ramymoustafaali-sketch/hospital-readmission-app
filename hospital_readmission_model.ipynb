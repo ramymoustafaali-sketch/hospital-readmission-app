{
 "cells": [
  {
   "cell_type": "code",
   "execution_count": 1,
   "id": "2ee0b0df-c3bc-48fc-adb6-16f122500c17",
   "metadata": {},
   "outputs": [
    {
     "name": "stderr",
     "output_type": "stream",
     "text": [
      "C:\\Users\\alir13\\AppData\\Local\\anaconda3\\Lib\\site-packages\\xgboost\\training.py:183: UserWarning: [18:35:32] WARNING: C:\\actions-runner\\_work\\xgboost\\xgboost\\src\\learner.cc:738: \n",
      "Parameters: { \"use_label_encoder\" } are not used.\n",
      "\n",
      "  bst.update(dtrain, iteration=i, fobj=obj)\n"
     ]
    },
    {
     "name": "stdout",
     "output_type": "stream",
     "text": [
      "Accuracy: 0.5988\n",
      "              precision    recall  f1-score   support\n",
      "\n",
      "           0       0.62      0.62      0.62      2658\n",
      "           1       0.57      0.58      0.57      2342\n",
      "\n",
      "    accuracy                           0.60      5000\n",
      "   macro avg       0.60      0.60      0.60      5000\n",
      "weighted avg       0.60      0.60      0.60      5000\n",
      "\n",
      "Confusion Matrix:\n",
      " [[1639 1019]\n",
      " [ 987 1355]]\n"
     ]
    },
    {
     "ename": "AttributeError",
     "evalue": "Can't get local object 'BaseDiscretizer.__init__.<locals>.<lambda>'",
     "output_type": "error",
     "traceback": [
      "\u001b[1;31m---------------------------------------------------------------------------\u001b[0m",
      "\u001b[1;31mAttributeError\u001b[0m                            Traceback (most recent call last)",
      "Cell \u001b[1;32mIn[1], line 68\u001b[0m\n\u001b[0;32m     66\u001b[0m \u001b[38;5;66;03m# Save explainer\u001b[39;00m\n\u001b[0;32m     67\u001b[0m \u001b[38;5;28;01mwith\u001b[39;00m \u001b[38;5;28mopen\u001b[39m(\u001b[38;5;124m\"\u001b[39m\u001b[38;5;124mlime_explainer.pkl\u001b[39m\u001b[38;5;124m\"\u001b[39m, \u001b[38;5;124m\"\u001b[39m\u001b[38;5;124mwb\u001b[39m\u001b[38;5;124m\"\u001b[39m) \u001b[38;5;28;01mas\u001b[39;00m f:\n\u001b[1;32m---> 68\u001b[0m     pickle\u001b[38;5;241m.\u001b[39mdump(explainer, f)\n\u001b[0;32m     70\u001b[0m \u001b[38;5;28mprint\u001b[39m(\u001b[38;5;124m\"\u001b[39m\u001b[38;5;130;01m\\n\u001b[39;00m\u001b[38;5;124mModel training complete and saved.\u001b[39m\u001b[38;5;124m\"\u001b[39m)\n",
      "\u001b[1;31mAttributeError\u001b[0m: Can't get local object 'BaseDiscretizer.__init__.<locals>.<lambda>'"
     ]
    }
   ],
   "source": [
    "# Hospital Readmission Prediction using XGBoost and LIME\n",
    "\n",
    "import pandas as pd\n",
    "import numpy as np\n",
    "from sklearn.model_selection import train_test_split\n",
    "from sklearn.preprocessing import LabelEncoder\n",
    "from sklearn.metrics import accuracy_score, classification_report, confusion_matrix\n",
    "from xgboost import XGBClassifier\n",
    "from imblearn.over_sampling import SMOTE\n",
    "import lime\n",
    "import lime.lime_tabular\n",
    "import pickle\n",
    "\n",
    "# Load data\n",
    "file_path = r\"C:\\\\Users\\\\alir13\\\\Downloads\\\\hospital_readmissions - Copy.csv\"\n",
    "df = pd.read_csv(file_path)\n",
    "\n",
    "# Encode categorical features\n",
    "label_encoders = {}\n",
    "for col in df.select_dtypes(include=['object']).columns:\n",
    "    if col != 'readmitted':\n",
    "        le = LabelEncoder()\n",
    "        df[col] = le.fit_transform(df[col])\n",
    "        label_encoders[col] = le\n",
    "\n",
    "# Encode target\n",
    "df['readmitted'] = df['readmitted'].map({'no': 0, 'yes': 1})\n",
    "\n",
    "# Select features and target\n",
    "X = df.drop('readmitted', axis=1)\n",
    "y = df['readmitted']\n",
    "\n",
    "# Split data\n",
    "X_train, X_test, y_train, y_test = train_test_split(X, y, test_size=0.2, random_state=42)\n",
    "\n",
    "# Apply SMOTE to balance\n",
    "smote = SMOTE(random_state=42)\n",
    "X_train_res, y_train_res = smote.fit_resample(X_train, y_train)\n",
    "\n",
    "# Train model\n",
    "model = XGBClassifier(use_label_encoder=False, eval_metric='logloss')\n",
    "model.fit(X_train_res, y_train_res)\n",
    "\n",
    "# Evaluate\n",
    "y_pred = model.predict(X_test)\n",
    "acc = accuracy_score(y_test, y_pred)\n",
    "print(\"Accuracy:\", acc)\n",
    "print(classification_report(y_test, y_pred))\n",
    "print(\"Confusion Matrix:\\n\", confusion_matrix(y_test, y_pred))\n",
    "\n",
    "# Save model and encoders\n",
    "with open(\"xgb_model.pkl\", \"wb\") as f:\n",
    "    pickle.dump(model, f)\n",
    "\n",
    "with open(\"label_encoders.pkl\", \"wb\") as f:\n",
    "    pickle.dump(label_encoders, f)\n",
    "\n",
    "# LIME explainer\n",
    "explainer = lime.lime_tabular.LimeTabularExplainer(\n",
    "    training_data=np.array(X_train),\n",
    "    feature_names=X.columns,\n",
    "    class_names=['No Readmission', 'Readmitted'],\n",
    "    mode='classification'\n",
    ")\n",
    "\n",
    "# Save explainer\n",
    "with open(\"lime_explainer.pkl\", \"wb\") as f:\n",
    "    pickle.dump(explainer, f)\n",
    "\n",
    "print(\"\\nModel training complete and saved.\")\n"
   ]
  },
  {
   "cell_type": "code",
   "execution_count": 2,
   "id": "15036d7f-c625-4f63-99b6-2f0e5bf28bd3",
   "metadata": {},
   "outputs": [
    {
     "ename": "AttributeError",
     "evalue": "Can't get local object 'BaseDiscretizer.__init__.<locals>.<lambda>'",
     "output_type": "error",
     "traceback": [
      "\u001b[1;31m---------------------------------------------------------------------------\u001b[0m",
      "\u001b[1;31mAttributeError\u001b[0m                            Traceback (most recent call last)",
      "Cell \u001b[1;32mIn[2], line 13\u001b[0m\n\u001b[0;32m     11\u001b[0m \u001b[38;5;66;03m# Save again\u001b[39;00m\n\u001b[0;32m     12\u001b[0m \u001b[38;5;28;01mwith\u001b[39;00m \u001b[38;5;28mopen\u001b[39m(\u001b[38;5;124m\"\u001b[39m\u001b[38;5;124mlime_explainer.pkl\u001b[39m\u001b[38;5;124m\"\u001b[39m, \u001b[38;5;124m\"\u001b[39m\u001b[38;5;124mwb\u001b[39m\u001b[38;5;124m\"\u001b[39m) \u001b[38;5;28;01mas\u001b[39;00m f:\n\u001b[1;32m---> 13\u001b[0m     pickle\u001b[38;5;241m.\u001b[39mdump(explainer, f)\n\u001b[0;32m     15\u001b[0m \u001b[38;5;28mprint\u001b[39m(\u001b[38;5;124m\"\u001b[39m\u001b[38;5;124mLIME explainer saved successfully.\u001b[39m\u001b[38;5;124m\"\u001b[39m)\n",
      "\u001b[1;31mAttributeError\u001b[0m: Can't get local object 'BaseDiscretizer.__init__.<locals>.<lambda>'"
     ]
    }
   ],
   "source": [
    "import lime.lime_tabular\n",
    "\n",
    "# Re-create LIME explainer with correct training data\n",
    "explainer = lime.lime_tabular.LimeTabularExplainer(\n",
    "    training_data=np.array(X_train_res),  # SMOTE-resampled data!\n",
    "    feature_names=X.columns.tolist(),\n",
    "    class_names=['No Readmission', 'Readmitted'],\n",
    "    mode='classification'\n",
    ")\n",
    "\n",
    "# Save again\n",
    "with open(\"lime_explainer.pkl\", \"wb\") as f:\n",
    "    pickle.dump(explainer, f)\n",
    "\n",
    "print(\"LIME explainer saved successfully.\")\n"
   ]
  },
  {
   "cell_type": "code",
   "execution_count": null,
   "id": "ad034151-6a9e-4f48-8693-b1139f0fee09",
   "metadata": {},
   "outputs": [],
   "source": []
  }
 ],
 "metadata": {
  "kernelspec": {
   "display_name": "Python 3 (ipykernel)",
   "language": "python",
   "name": "python3"
  },
  "language_info": {
   "codemirror_mode": {
    "name": "ipython",
    "version": 3
   },
   "file_extension": ".py",
   "mimetype": "text/x-python",
   "name": "python",
   "nbconvert_exporter": "python",
   "pygments_lexer": "ipython3",
   "version": "3.13.5"
  }
 },
 "nbformat": 4,
 "nbformat_minor": 5
}
